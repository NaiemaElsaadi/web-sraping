{
 "cells": [
  {
   "cell_type": "markdown",
   "metadata": {},
   "source": [
    "# Web Mining and Applied NLP (44-620)\n",
    "\n",
    "## Web Scraping and NLP with Requests, BeautifulSoup, and spaCy\n",
    "\n",
    "### Student Name: Naiema Elsaadi\n",
    "\n",
    "<b>My GitHub Repository is at :[GitHub Repository](https://github.com/NaiemaElsaadi/web-sraping)\n",
    "\n",
    "Perform the tasks described in the Markdown cells below.  When you have completed the assignment make sure your code cells have all been run (and have output beneath them) and ensure you have committed and pushed ALL of your changes to your assignment repository.\n",
    "\n",
    "Every question that requires you to write code will have a code cell underneath it; you may either write your entire solution in that cell or write it in a python file (`.py`), then import and run the appropriate code to answer the question."
   ]
  },
  {
   "cell_type": "markdown",
   "metadata": {
    "tags": []
   },
   "source": [
    "### Requirements"
   ]
  },
  {
   "cell_type": "code",
   "execution_count": 1,
   "metadata": {},
   "outputs": [
    {
     "name": "stdout",
     "output_type": "stream",
     "text": [
      "Package                       Version\n",
      "----------------------------- -----------\n",
      "annotated-types               0.6.0\n",
      "anyio                         3.6.1\n",
      "argon2-cffi                   21.3.0\n",
      "argon2-cffi-bindings          21.2.0\n",
      "astroid                       2.11.7\n",
      "asttokens                     2.0.8\n",
      "attrs                         22.1.0\n",
      "Babel                         2.10.3\n",
      "backcall                      0.2.0\n",
      "backports.functools-lru-cache 1.6.4\n",
      "beautifulsoup4                4.11.1\n",
      "bleach                        5.0.1\n",
      "blis                          0.7.11\n",
      "brotlipy                      0.7.0\n",
      "catalogue                     2.0.10\n",
      "certifi                       2023.7.22\n",
      "cffi                          1.15.1\n",
      "charset-normalizer            2.0.4\n",
      "click                         8.1.3\n",
      "cloudpathlib                  0.16.0\n",
      "colorama                      0.4.6\n",
      "conda                         4.14.0\n",
      "conda-package-handling        1.8.1\n",
      "confection                    0.1.4\n",
      "cryptography                  37.0.1\n",
      "cycler                        0.11.0\n",
      "cymem                         2.0.8\n",
      "debugpy                       1.6.3\n",
      "decorator                     5.1.1\n",
      "defusedxml                    0.7.1\n",
      "dill                          0.3.5.1\n",
      "dodgy                         0.2.1\n",
      "en-core-web-lg                3.7.1\n",
      "en-core-web-md                3.7.1\n",
      "en-core-web-sm                3.7.1\n",
      "entrypoints                   0.4\n",
      "executing                     0.10.0\n",
      "fastjsonschema                2.16.1\n",
      "flake8                        4.0.1\n",
      "flake8-polyfill               1.0.2\n",
      "Flask                         2.2.3\n",
      "flit_core                     3.7.1\n",
      "fonttools                     4.36.0\n",
      "greenlet                      2.0.2\n",
      "html5lib                      1.1\n",
      "idna                          3.3\n",
      "importlib-metadata            4.11.4\n",
      "importlib-resources           5.9.0\n",
      "ipykernel                     6.15.1\n",
      "ipympl                        0.9.1\n",
      "ipython                       8.4.0\n",
      "ipython-genutils              0.2.0\n",
      "ipywidgets                    7.7.1\n",
      "isort                         5.10.1\n",
      "itsdangerous                  2.1.2\n",
      "jedi                          0.18.1\n",
      "Jinja2                        3.1.2\n",
      "joblib                        1.2.0\n",
      "json5                         0.9.5\n",
      "jsonschema                    4.9.1\n",
      "jupyter-client                7.3.4\n",
      "jupyter_core                  4.11.1\n",
      "jupyter-server                1.18.1\n",
      "jupyterlab                    3.4.5\n",
      "jupyterlab-pygments           0.2.2\n",
      "jupyterlab-server             2.15.0\n",
      "jupyterlab-widgets            1.1.1\n",
      "kiwisolver                    1.4.4\n",
      "langcodes                     3.3.0\n",
      "lazy-object-proxy             1.7.1\n",
      "lxml                          4.9.1\n",
      "MarkupSafe                    2.1.1\n",
      "matplotlib                    3.5.3\n",
      "matplotlib-inline             0.1.6\n",
      "mccabe                        0.6.1\n",
      "menuinst                      1.4.18\n",
      "mistune                       0.8.4\n",
      "mlxtend                       0.22.0\n",
      "munkres                       1.1.4\n",
      "murmurhash                    1.0.10\n",
      "nbclassic                     0.4.3\n",
      "nbclient                      0.6.6\n",
      "nbconvert                     6.5.3\n",
      "nbformat                      5.4.0\n",
      "nest-asyncio                  1.5.5\n",
      "nltk                          3.8.1\n",
      "notebook                      6.4.12\n",
      "notebook-shim                 0.1.0\n",
      "numpy                         1.23.2\n",
      "packaging                     21.3\n",
      "pandas                        1.4.3\n",
      "pandocfilters                 1.5.0\n",
      "parso                         0.8.3\n",
      "patsy                         0.5.2\n",
      "pep8-naming                   0.10.0\n",
      "pickleshare                   0.7.5\n",
      "pika                          1.3.2\n",
      "Pillow                        9.4.0\n",
      "pip                           22.1.2\n",
      "pkgutil_resolve_name          1.3.10\n",
      "platformdirs                  2.5.2\n",
      "preshed                       3.0.9\n",
      "prometheus-client             0.14.1\n",
      "prompt-toolkit                3.0.30\n",
      "prospector                    1.7.7\n",
      "psutil                        5.9.1\n",
      "psycopg2                      2.9.6\n",
      "psycopg2-binary               2.9.6\n",
      "pure-eval                     0.2.2\n",
      "pycodestyle                   2.8.0\n",
      "pycosat                       0.6.3\n",
      "pycparser                     2.21\n",
      "pydantic                      2.6.4\n",
      "pydantic_core                 2.16.3\n",
      "pydocstyle                    6.1.1\n",
      "pyflakes                      2.4.0\n",
      "Pygments                      2.13.0\n",
      "pylint                        2.14.5\n",
      "pylint-celery                 0.3\n",
      "pylint-django                 2.5.3\n",
      "pylint-flask                  0.6\n",
      "pylint-plugin-utils           0.7\n",
      "pyOpenSSL                     22.0.0\n",
      "pyparsing                     3.0.9\n",
      "pyrsistent                    0.18.1\n",
      "PySocks                       1.7.1\n",
      "python-dateutil               2.8.2\n",
      "pytz                          2022.2.1\n",
      "pywin32                       302\n",
      "pywinpty                      2.0.2\n",
      "PyYAML                        6.0\n",
      "pyzmq                         23.2.1\n",
      "regex                         2023.12.25\n",
      "requests                      2.28.1\n",
      "requirements-detector         0.7\n",
      "ruamel-yaml-conda             0.15.100\n",
      "scikit-learn                  1.2.2\n",
      "scipy                         1.8.1\n",
      "seaborn                       0.11.2\n",
      "Send2Trash                    1.8.0\n",
      "setoptconf-tmp                0.3.1\n",
      "setuptools                    61.2.0\n",
      "six                           1.16.0\n",
      "sklearn                       0.0\n",
      "smart-open                    6.4.0\n",
      "sniffio                       1.2.0\n",
      "snowballstemmer               2.2.0\n",
      "soupsieve                     2.3.2.post1\n",
      "spacy                         3.7.4\n",
      "spacy-legacy                  3.0.12\n",
      "spacy-loggers                 1.0.5\n",
      "spacytextblob                 4.0.0\n",
      "SQLAlchemy                    2.0.12\n",
      "srsly                         2.4.8\n",
      "stack-data                    0.4.0\n",
      "statsmodels                   0.13.2\n",
      "terminado                     0.15.0\n",
      "textblob                      0.15.3\n",
      "thinc                         8.2.3\n",
      "threadpoolctl                 3.1.0\n",
      "tinycss2                      1.1.1\n",
      "toml                          0.10.2\n",
      "tomli                         2.0.1\n",
      "tomlkit                       0.11.4\n",
      "toolz                         0.12.0\n",
      "tornado                       6.2\n",
      "tqdm                          4.64.0\n",
      "traitlets                     5.3.0\n",
      "typer                         0.9.0\n",
      "typing_extensions             4.10.0\n",
      "unicodedata2                  14.0.0\n",
      "urllib3                       1.26.11\n",
      "wasabi                        1.1.2\n",
      "wcwidth                       0.2.5\n",
      "weasel                        0.3.4\n",
      "webencodings                  0.5.1\n",
      "websocket-client              1.3.3\n",
      "Werkzeug                      2.2.3\n",
      "wheel                         0.37.1\n",
      "widgetsnbextension            3.6.1\n",
      "win-inet-pton                 1.1.0\n",
      "wincertstore                  0.2\n",
      "wrapt                         1.14.1\n",
      "zipp                          3.8.1\n",
      "All prereqs installed.\n"
     ]
    }
   ],
   "source": [
    "# Create and activate a Python virtual environment. \n",
    "# Before starting the project, try all these imports FIRST\n",
    "# Address any errors you get running this code cell \n",
    "# by installing the necessary packages into your active Python environment.\n",
    "# Try to resolve issues using your materials and the web.\n",
    "# If that doesn't work, ask for help in the discussion forums.\n",
    "# You can't complete the exercises until you import these - start early! \n",
    "# We also import pickle and Counter (included in the Python Standard Library).\n",
    "\n",
    "from collections import Counter\n",
    "import pickle\n",
    "import requests\n",
    "import spacy\n",
    "from bs4 import BeautifulSoup\n",
    "import matplotlib.pyplot as plt\n",
    "\n",
    "!pip list\n",
    "\n",
    "print('All prereqs installed.')"
   ]
  },
  {
   "cell_type": "markdown",
   "metadata": {
    "tags": []
   },
   "source": [
    "### Question 1"
   ]
  },
  {
   "cell_type": "markdown",
   "metadata": {},
   "source": [
    "<b>Q1. Write code that extracts the article html from https://web.archive.org/web/20210327165005/https://hackaday.com/2021/03/22/how-laser-headlights-work/ and dumps it to a .pkl (or other appropriate file)"
   ]
  },
  {
   "cell_type": "code",
   "execution_count": 2,
   "metadata": {},
   "outputs": [
    {
     "name": "stdout",
     "output_type": "stream",
     "text": [
      "200\n",
      "text/html; charset=UTF-8\n"
     ]
    }
   ],
   "source": [
    "import requests\n",
    "\n",
    "response = requests.get('https://web.archive.org/web/20210327165005/https://hackaday.com/2021/03/22/how-laser-headlights-work/')\n",
    "\n",
    "print(response.status_code)\n",
    "print(response.headers['content-type'])"
   ]
  },
  {
   "cell_type": "code",
   "execution_count": 3,
   "metadata": {},
   "outputs": [
    {
     "name": "stdout",
     "output_type": "stream",
     "text": [
      "<article class=\"post-466450 post type-post status-publish format-standard has-post-thumbnail hentry category-car-hacks category-engineering category-featured category-laser-hacks category-slider tag-laser tag-laser-headlight tag-laser-headlights tag-light\" id=\"post-466450\" itemscope=\"\" itemtype=\"http://schema.org/Article\">\n",
      "<header class=\"entry-header\">\n",
      "<h1 class=\"entry-title\" itemprop=\"name\">How Laser Headlights Work</h1>\n",
      "<div class=\"entry-meta\">\n",
      "<a class=\"comments-counts\" href=\"https://web.archive.org/web/20210327165005/https://hackaday.com/2021/03/22/how-laser-headlights-work/#comments\"><span class=\"icon-hackaday icon-hackaday-comment\"></span>\n",
      "                130 Comments            </a>\n",
      "<ul class=\"meta-authors vcard author\">\n",
      "<li>by:</li>\n",
      "<span class=\"fn\"><a class=\"author url fn\" href=\"https://web.archive.org/web/20210327165005/https://hackaday.com/author/lewinday/\" rel=\"author\" title=\"Posts by Lewin Day\">Lewin Day</a></span>\n",
      "</ul>\n",
      "</div><!-- .entry-meta -->\n",
      "<div class=\"entry-meta entry-meta-last\">\n",
      "<span class=\"entry-date published updated\" content=\"March 22, 2021\" itemprop=\"datePublished\"><a href=\"https://web.archive.org/web/20210327165005/https://hackaday.com/2021/03/22/\" title=\"March 22, 2021 - 7:01 am\">March 22, 2021</a></span>\n",
      "<ul class=\"share-post\">\n",
      "<li><a href=\"https://web.archive.org/web/20210327165005/https://www.facebook.com/sharer/sharer.php?u=https%3A%2F%2Fhackaday.com%2F2021%2F03%2F22%2Fhow-laser-headlights-work%2F\" target=\"_blank\"><span class=\"icon-hackaday icon-hackaday-facebook\"></span></a></li>\n",
      "<li><a href=\"https://web.archive.org/web/20210327165005/https://twitter.com/intent/tweet?text=How+Laser+Headlights+Work via @hackaday&amp;url=https%3A%2F%2Fhackaday.com%2F2021%2F03%2F22%2Fhow-laser-headlights-work%2F\" target=\"_blank\"><span class=\"icon-hackaday icon-hackaday-twitter\"></span></a></li>\n",
      "</ul>\n",
      "</div><!-- .entry-meta -->\n",
      "<div class=\"entry-featured-image\"><img alt=\"\" content=\"https://hackaday.com/wp-content/uploads/2021/03/LaserHeadlight-thumb.jpg?w=600&amp;h=600\" itemprop=\"image\" src=\"https://web.archive.org/web/20210327165005im_/https://hackaday.com/wp-content/uploads/2021/03/LaserHeadlight.jpg?w=800\"/></div>\n",
      "</header><!-- .entry-header -->\n",
      "<div class=\"entry-content\" itemprop=\"articleBody\">\n",
      "<p>When we think about the onward march of automotive technology, headlights aren’t usually the first thing that come to mind. Engines, fuel efficiency, and the switch to electric power are all more front of mind. However, that doesn’t mean there aren’t thousands of engineers around the world working to improve the state of the art in automotive lighting day in, day out.</p>\n",
      "<p>Sealed beam headlights gave way to more modern designs once regulations loosened up, while bulbs moved from simple halogens to xenon HIDs and, more recently, LEDs. Now, a new technology is on the scene, with lasers!</p>\n",
      "<p><span id=\"more-466450\"></span></p>\n",
      "<h2>Laser Headlights?!</h2>\n",
      "<figure aria-describedby=\"caption-attachment-466463\" class=\"wp-caption alignright\" id=\"attachment_466463\" style=\"width: 290px\"><img alt=\"\" class=\"size-medium wp-image-466463\" data-attachment-id=\"466463\" data-comments-opened=\"1\" data-image-description=\"\" data-image-meta='{\"aperture\":\"0\",\"credit\":\"\",\"camera\":\"\",\"caption\":\"\",\"created_timestamp\":\"0\",\"copyright\":\"\",\"focal_length\":\"0\",\"iso\":\"0\",\"shutter_speed\":\"0\",\"title\":\"\",\"orientation\":\"0\"}' data-image-title=\"laser light bwm proto 2\" data-large-file=\"https://web.archive.org/web/20210327165005/https://hackaday.com/wp-content/uploads/2021/03/laser-light-bwm-proto-2.jpg?w=290\" data-medium-file=\"https://web.archive.org/web/20210327165005/https://hackaday.com/wp-content/uploads/2021/03/laser-light-bwm-proto-2.jpg?w=290\" data-orig-file=\"https://web.archive.org/web/20210327165005/https://hackaday.com/wp-content/uploads/2021/03/laser-light-bwm-proto-2.jpg\" data-orig-size=\"290,193\" data-permalink=\"https://web.archive.org/web/20210327165005/https://hackaday.com/2021/03/22/how-laser-headlights-work/laser-light-bwm-proto-2/\" height=\"193\" loading=\"lazy\" sizes=\"(max-width: 290px) 100vw, 290px\" src=\"https://web.archive.org/web/20210327165005im_/https://hackaday.com/wp-content/uploads/2021/03/laser-light-bwm-proto-2.jpg?w=290\" srcset=\"https://web.archive.org/web/20210327165005im_/https://hackaday.com/wp-content/uploads/2021/03/laser-light-bwm-proto-2.jpg 290w, https://web.archive.org/web/20210327165005im_/https://hackaday.com/wp-content/uploads/2021/03/laser-light-bwm-proto-2.jpg?resize=250,166 250w\" width=\"290\"><figcaption class=\"wp-caption-text\" id=\"caption-attachment-466463\">BWM’s prototype laser headlight assemblies undergoing testing.</figcaption></img></figure>\n",
      "<p>The first image brought to mind by the phrase “laser headlights” is that of laser beams firing out the front of an automobile. Obviously, coherent beams of monochromatic light would make for poor illumination outside of a very specific spot quite some distance away. Thankfully for our eyes, laser headlights don’t work in this way at all.</p>\n",
      "<p>Instead, laser headlights consist of one or more solid state laser diodes mounted inside the headlight. These blue lasers are fired at a yellow phosphor, similar to that used in white LEDs. This produces a powerful, vibrant white light that can then be bounced off reflectors and out of the headlights towards the road. Laser headlights built in this way have several benefits. They’re more energy efficient than LEDs that put out the same amount of light, while also being more space efficient, too.</p>\n",
      "<figure aria-describedby=\"caption-attachment-466464\" class=\"wp-caption alignleft\" id=\"attachment_466464\" style=\"width: 400px\"><img alt=\"\" class=\"size-medium wp-image-466464\" data-attachment-id=\"466464\" data-comments-opened=\"1\" data-image-description=\"\" data-image-meta='{\"aperture\":\"0\",\"credit\":\"\",\"camera\":\"\",\"caption\":\"\",\"created_timestamp\":\"0\",\"copyright\":\"\",\"focal_length\":\"0\",\"iso\":\"0\",\"shutter_speed\":\"0\",\"title\":\"\",\"orientation\":\"0\"}' data-image-title=\"laser headlight bmw i8\" data-large-file=\"https://web.archive.org/web/20210327165005/https://hackaday.com/wp-content/uploads/2021/03/laser-headlight-bmw-i8.jpg?w=800\" data-medium-file=\"https://web.archive.org/web/20210327165005/https://hackaday.com/wp-content/uploads/2021/03/laser-headlight-bmw-i8.jpg?w=400\" data-orig-file=\"https://web.archive.org/web/20210327165005/https://hackaday.com/wp-content/uploads/2021/03/laser-headlight-bmw-i8.jpg\" data-orig-size=\"1900,1265\" data-permalink=\"https://web.archive.org/web/20210327165005/https://hackaday.com/2021/03/22/how-laser-headlights-work/laser-headlight-bmw-i8/\" height=\"266\" loading=\"lazy\" sizes=\"(max-width: 400px) 100vw, 400px\" src=\"https://web.archive.org/web/20210327165005im_/https://hackaday.com/wp-content/uploads/2021/03/laser-headlight-bmw-i8.jpg?w=400\" srcset=\"https://web.archive.org/web/20210327165005im_/https://hackaday.com/wp-content/uploads/2021/03/laser-headlight-bmw-i8.jpg 1900w, https://web.archive.org/web/20210327165005im_/https://hackaday.com/wp-content/uploads/2021/03/laser-headlight-bmw-i8.jpg?resize=250,166 250w, https://web.archive.org/web/20210327165005im_/https://hackaday.com/wp-content/uploads/2021/03/laser-headlight-bmw-i8.jpg?resize=400,266 400w, https://web.archive.org/web/20210327165005im_/https://hackaday.com/wp-content/uploads/2021/03/laser-headlight-bmw-i8.jpg?resize=800,533 800w, https://web.archive.org/web/20210327165005im_/https://hackaday.com/wp-content/uploads/2021/03/laser-headlight-bmw-i8.jpg?resize=1536,1023 1536w\" width=\"400\"><figcaption class=\"wp-caption-text\" id=\"caption-attachment-466464\">BWM’s futuristic i8 was one of the first vehicles to ship with laser headlight technology.</figcaption></img></figure>\n",
      "<p>Laser headlights are still a nascent technology, thus far only appearing in a few BMW, Audi, and other select vehicles. <a href=\"https://web.archive.org/web/20210327165005/https://www.osram.com/am/specials/trends-in-automotive-lighting/laser-light-new-headlight-technology/questions-and-answers-on-innovative-laser-technology/index.jsp\" target=\"_blank\">BMW’s technology was developed in partnership with lighting experts OSRAM</a>. In practice, a regular LED low-beam lamp is used, with the laser used to create an incredibly bright and focused spot, used for high-beams. This can provide illumination out to 600 meters ahead of the vehicle, double that of conventional LED high beams. The lights use indium gallium nitride diode lasers that were originally used in projectors, with power levels above 1 watt. One of the challenges in implementing such technology in an automotive environment is the need for it to operate at temperature extremes. While research lasers and laser pointers may primarily be used at typical room temperatures, automotive headlights must be able to withstand everything from 40 degrees below zero up to 50 degrees C. Thankfully, the laser’s high efficiency means it doesn’t have huge heat output of its own to further complicate things. Other engineering challenges involve tailoring the optics package for the rough-and-tumble, high vibration environment found in the automotive application. It’s also important to ensure, as with any such device, that the end user can’t be exposed to harmful laser radiation in the event of accident or malfunction.</p>\n",
      "<h2>Tearing Down the Laser Headlight</h2>\n",
      "<figure aria-describedby=\"caption-attachment-466457\" class=\"wp-caption alignright\" id=\"attachment_466457\" style=\"width: 400px\"><img alt=\"\" class=\"size-medium wp-image-466457\" data-attachment-id=\"466457\" data-comments-opened=\"1\" data-image-description=\"\" data-image-meta='{\"aperture\":\"0\",\"credit\":\"\",\"camera\":\"\",\"caption\":\"\",\"created_timestamp\":\"0\",\"copyright\":\"\",\"focal_length\":\"0\",\"iso\":\"0\",\"shutter_speed\":\"0\",\"title\":\"\",\"orientation\":\"0\"}' data-image-title=\"ledheadlights-aliexp\" data-large-file=\"https://web.archive.org/web/20210327165005/https://hackaday.com/wp-content/uploads/2021/03/ledheadlights-aliexp.jpg?w=625\" data-medium-file=\"https://web.archive.org/web/20210327165005/https://hackaday.com/wp-content/uploads/2021/03/ledheadlights-aliexp.jpg?w=400\" data-orig-file=\"https://web.archive.org/web/20210327165005/https://hackaday.com/wp-content/uploads/2021/03/ledheadlights-aliexp.jpg\" data-orig-size=\"930,930\" data-permalink=\"https://web.archive.org/web/20210327165005/https://hackaday.com/2021/03/22/how-laser-headlights-work/ledheadlights-aliexp/\" height=\"400\" loading=\"lazy\" sizes=\"(max-width: 400px) 100vw, 400px\" src=\"https://web.archive.org/web/20210327165005im_/https://hackaday.com/wp-content/uploads/2021/03/ledheadlights-aliexp.jpg?w=400\" srcset=\"https://web.archive.org/web/20210327165005im_/https://hackaday.com/wp-content/uploads/2021/03/ledheadlights-aliexp.jpg 930w, https://web.archive.org/web/20210327165005im_/https://hackaday.com/wp-content/uploads/2021/03/ledheadlights-aliexp.jpg?resize=250,250 250w, https://web.archive.org/web/20210327165005im_/https://hackaday.com/wp-content/uploads/2021/03/ledheadlights-aliexp.jpg?resize=400,400 400w, https://web.archive.org/web/20210327165005im_/https://hackaday.com/wp-content/uploads/2021/03/ledheadlights-aliexp.jpg?resize=625,625 625w\" width=\"400\"/><figcaption class=\"wp-caption-text\" id=\"caption-attachment-466457\">A marketing image showing the construction of an aftermarket LED/laser headlight. We’d take the laser power with a grain of salt — it’s difficult to imagine a 10 W laser shining directly on some small LEDs without melting a hole through the board in short order.</figcaption></figure>\n",
      "<p>An aftermarket has sprung up too, with delightfully innovative designs. Combined laser/LED headlights are readily available on Alibaba, <a href=\"https://web.archive.org/web/20210327165005/https://www.aliexpress.com/item/1005001889968976.html?spm=a2g0o.search0302.0.0.5bebc1d45ruE7k&amp;algo_pvid=b016ca5c-d0fe-4309-ab5f-e39ea8770c80&amp;algo_expid=b016ca5c-d0fe-4309-ab5f-e39ea8770c80-0&amp;btsid=0b0a556516155071180373533e897a&amp;ws_ab_test=searchweb0_0,searchweb201602_,searchweb201603_\" target=\"_blank\">designed as a drop in replacement for projector lamps on existing vehicles.</a> These often use an LED low-beam, and a combined LED/laser high beam, where the laser diode shoots directly at the LED phosphor to excite it further, rather than using its own. These units often also come with fan cooling to keep the laser and LEDs below their maximum operational temperature. Such developments are exciting, though it’s important to be wary of the performance of unknown aftermarket headlights. <a href=\"https://web.archive.org/web/20210327165005/https://jalopnik.com/why-most-led-headlight-upgrades-dont-really-work-an-ex-1843070472\" target=\"_blank\">Many aftermarket LED headlight “upgrades” fail to pass muster</a> when it comes to real-world performance, and there’s no reason to believe hybrid LED/laser designs will be any different. We’d love to pass a selection of these parts through <a href=\"https://web.archive.org/web/20210327165005/http://www.vdrsyd.com/ancap_datasheets/xprotocol_archive/IIHS/headlight_test_rating_protocol.pdf\" target=\"_blank\">a full IIHS test protocol</a>, but that’s sadly beyond the scope (and budget!) of this article.</p>\n",
      "<p>However, [mikeselectricstuff] has happened to lay his hands on both the BMW and aftermarket parts, <a href=\"https://web.archive.org/web/20210327165005/https://www.youtube.com/watch?v=7fRjMHtnShs\" target=\"_blank\">tearing them all down in his workshop to see what makes them tick.</a> The differences are multitude when laid bare on the bench. The AliExpress part is relatively simple, wired up no differently from a regular headlight. Interestingly, however, the laser high-beam circuit runs all the time in these parts. To prevent blinding other road users, a shutter is kept in place to block the light, which is moved out of the way with a solenoid when the driver turns on the high beam switch.</p>\n",
      "<p>Where the aftermarket part is a little out of left field, the BMW design is another thing entirely. The cutting-edge headlights are hooked up with multiple connectors and over 30 conductors, with much of the driver electronics living in an external controller. Much of this is to drive the various LEDs and stepper motors for slewing the headlights when steering. However, the laser assembly brings its own complexities. Twin light sensors are built inside to monitor the laser beam, and a special metal blocking arm sits directly in front of the diode, presumably to stop the laser light leaving the headlight in the event the phosphor coating burns through. It’s truly wild to get a look inside a modern luxury car’s headlight and see just how far we’ve come from the old days of simple sealed beams.</p>\n",
      "<h2>Cost Versus Performance</h2>\n",
      "<p>Despite the efficiency gains available, the technology remains expensive. Powerful laser diodes don’t come cheap, after all. However, as the technology trickles down to lower-end models, it’s likely that we could see economies of scale change that for the better. Indeed, if national authorities begin to demand higher performance headlights as standard, we could see laser headlights become the norm, rather than an expensive luxury. The technology could naturally be applied to home and commercial lighting, too — though we suspect the potential gains are limited enough that LED lighting will remain the norm for some time to come.</p>\n",
      "<figure aria-describedby=\"caption-attachment-466459\" class=\"wp-caption alignright\" id=\"attachment_466459\" style=\"width: 400px\"><img alt=\"\" class=\"size-medium wp-image-466459\" data-attachment-id=\"466459\" data-comments-opened=\"1\" data-image-description=\"\" data-image-meta='{\"aperture\":\"0\",\"credit\":\"\",\"camera\":\"\",\"caption\":\"\",\"created_timestamp\":\"0\",\"copyright\":\"\",\"focal_length\":\"0\",\"iso\":\"0\",\"shutter_speed\":\"0\",\"title\":\"\",\"orientation\":\"0\"}' data-image-title=\"laser headlights bmw laser\" data-large-file=\"https://web.archive.org/web/20210327165005/https://hackaday.com/wp-content/uploads/2021/03/laser-headlights-bmw-laser.jpg?w=796\" data-medium-file=\"https://web.archive.org/web/20210327165005/https://hackaday.com/wp-content/uploads/2021/03/laser-headlights-bmw-laser.jpg?w=400\" data-orig-file=\"https://web.archive.org/web/20210327165005/https://hackaday.com/wp-content/uploads/2021/03/laser-headlights-bmw-laser.jpg\" data-orig-size=\"796,316\" data-permalink=\"https://web.archive.org/web/20210327165005/https://hackaday.com/2021/03/22/how-laser-headlights-work/laser-headlights-bmw-laser/\" height=\"159\" loading=\"lazy\" sizes=\"(max-width: 400px) 100vw, 400px\" src=\"https://web.archive.org/web/20210327165005im_/https://hackaday.com/wp-content/uploads/2021/03/laser-headlights-bmw-laser.jpg?w=400\" srcset=\"https://web.archive.org/web/20210327165005im_/https://hackaday.com/wp-content/uploads/2021/03/laser-headlights-bmw-laser.jpg 796w, https://web.archive.org/web/20210327165005im_/https://hackaday.com/wp-content/uploads/2021/03/laser-headlights-bmw-laser.jpg?resize=250,99 250w, https://web.archive.org/web/20210327165005im_/https://hackaday.com/wp-content/uploads/2021/03/laser-headlights-bmw-laser.jpg?resize=400,159 400w\" width=\"400\"/><figcaption class=\"wp-caption-text\" id=\"caption-attachment-466459\">The high light output of laser headlights in a compact package allows engineers greater freedom when designing the front-end of a car.</figcaption></figure>\n",
      "<p>As it currently stands, much of the appeal of the new technology is about the packaging benefits, which allow automotive designers greater freedom around the headlight area. Such concerns are less of a factor when it comes to light fittings in the home or office, or indeed, on lower-end automobiles. Regardless, it’s an exciting new application for lasers and one we’ll be sure to see more of in the future.</p>\n",
      "<p> </p>\n",
      "</div><!-- .entry-content -->\n",
      "<ul class=\"sharing\">\n",
      "<li class=\"\">\n",
      "<a class=\"facebook\" href=\"https://web.archive.org/web/20210327165005/https://www.facebook.com/sharer/sharer.php?u=https%3A%2F%2Fhackaday.com%2F2021%2F03%2F22%2Fhow-laser-headlights-work%2F\" target=\"_blank\">\n",
      "<i class=\"socicon-facebook\"><img src=\"https://web.archive.org/web/20210327165005im_/https://hackaday.com/wp-content/themes/hackaday-2/img/share_face.png\"/> </i>\n",
      "</a>\n",
      "</li>\n",
      "<li class=\"\">\n",
      "<a class=\"twitter\" href=\"https://web.archive.org/web/20210327165005/https://twitter.com/intent/tweet?text=How+Laser+Headlights+Work via @hackaday&amp;url=https%3A%2F%2Fhackaday.com%2F2021%2F03%2F22%2Fhow-laser-headlights-work%2F\" target=\"_blank\">\n",
      "<i class=\"socicon-twitter\"><img src=\"https://web.archive.org/web/20210327165005im_/https://hackaday.com/wp-content/themes/hackaday-2/img/share_twitter.png\"/></i>\n",
      "</a>\n",
      "</li>\n",
      "<li class=\"\">\n",
      "<a class=\"linkedin\" href=\"https://web.archive.org/web/20210327165005/https://www.linkedin.com/shareArticle?url=https%3A%2F%2Fhackaday.com%2F2021%2F03%2F22%2Fhow-laser-headlights-work%2F\" target=\"_blank\">\n",
      "<i class=\"socicon-linkedin\"><img src=\"https://web.archive.org/web/20210327165005im_/https://hackaday.com/wp-content/themes/hackaday-2/img/share_in.png\"/></i>\n",
      "</a>\n",
      "</li>\n",
      "<li class=\"\">\n",
      "<a class=\"mail\" href=\"https://web.archive.org/web/20210327165005/mailto:/?subject=How+Laser+Headlights+Work | Hackaday&amp;body=https%3A%2F%2Fhackaday.com%2F2021%2F03%2F22%2Fhow-laser-headlights-work%2F\">\n",
      "<i class=\"\"><img src=\"https://web.archive.org/web/20210327165005im_/https://hackaday.com/wp-content/themes/hackaday-2/img/share_mail1.png\"/></i>\n",
      "</a>\n",
      "</li>\n",
      "</ul>\n",
      "<footer class=\"entry-footer\">\n",
      "<span class=\"cat-links\">Posted in <a href=\"https://web.archive.org/web/20210327165005/https://hackaday.com/category/car-hacks/\" rel=\"category tag\">car hacks</a>, <a href=\"https://web.archive.org/web/20210327165005/https://hackaday.com/category/curated/engineering/\" rel=\"category tag\">Engineering</a>, <a href=\"https://web.archive.org/web/20210327165005/https://hackaday.com/category/featured/\" rel=\"category tag\">Featured</a>, <a href=\"https://web.archive.org/web/20210327165005/https://hackaday.com/category/laser-hacks/\" rel=\"category tag\">Laser Hacks</a>, <a href=\"https://web.archive.org/web/20210327165005/https://hackaday.com/category/slider/\" rel=\"category tag\">Slider</a></span><span class=\"tags-links\">Tagged <a href=\"https://web.archive.org/web/20210327165005/https://hackaday.com/tag/laser/\" rel=\"tag\">laser</a>, <a href=\"https://web.archive.org/web/20210327165005/https://hackaday.com/tag/laser-headlight/\" rel=\"tag\">laser headlight</a>, <a href=\"https://web.archive.org/web/20210327165005/https://hackaday.com/tag/laser-headlights/\" rel=\"tag\">laser headlights</a>, <a href=\"https://web.archive.org/web/20210327165005/https://hackaday.com/tag/light/\" rel=\"tag\">light</a></span><meta content=\"https://web.archive.org/web/20210327165005/https://hackaday.com/2021/03/22/how-laser-headlights-work/\" itemprop=\"url\"/> </footer><!-- .entry-footer -->\n",
      "</article>\n"
     ]
    }
   ],
   "source": [
    "import requests\n",
    "from bs4 import BeautifulSoup\n",
    "import pickle\n",
    "\n",
    "# parser = 'html5lib'\n",
    "parser = 'html.parser'\n",
    "\n",
    "soup = BeautifulSoup(response.text, parser)\n",
    "\n",
    "article_page = requests.get('https://web.archive.org/web/20210327165005/https://hackaday.com/2021/03/22/how-laser-headlights-work/')\n",
    "article_html = article_page.text\n",
    "\n",
    "\n",
    "\n",
    "with open('python-match.pkl', 'wb') as f:\n",
    "    pickle.dump(article_page.text, f)\n",
    "\n",
    "# Load the pickled data\n",
    "with open('python-match.pkl', 'rb') as f:\n",
    "    article_html = pickle.load(f)\n",
    "\n",
    "    soup = BeautifulSoup(article_html, parser)\n",
    "article_element = soup.find('article')\n",
    "\n",
    "# Print the pickled data\n",
    "print(article_element)\n",
    "    \n",
    "\n"
   ]
  },
  {
   "cell_type": "markdown",
   "metadata": {
    "tags": []
   },
   "source": [
    "### Question 2"
   ]
  },
  {
   "cell_type": "markdown",
   "metadata": {},
   "source": [
    "<b>Q2. Read in your article's html source from the file you created in question 1 and print it's text (use `.get_text()`)"
   ]
  },
  {
   "cell_type": "code",
   "execution_count": 4,
   "metadata": {},
   "outputs": [
    {
     "name": "stdout",
     "output_type": "stream",
     "text": [
      "\n",
      "\n",
      "How Laser Headlights Work\n",
      "\n",
      "\n",
      "                130 Comments            \n",
      "\n",
      "by:\n",
      "Lewin Day\n",
      "\n",
      "\n",
      "\n",
      "March 22, 2021\n",
      "\n",
      "\n",
      "\n",
      "\n",
      "\n",
      "\n",
      "\n",
      "\n",
      "When we think about the onward march of automotive technology, headlights aren’t usually the first thing that come to mind. Engines, fuel efficiency, and the switch to electric power are all more front of mind. However, that doesn’t mean there aren’t thousands of engineers around the world working to improve the state of the art in automotive lighting day in, day out.\n",
      "Sealed beam headlights gave way to more modern designs once regulations loosened up, while bulbs moved from simple halogens to xenon HIDs and, more recently, LEDs. Now, a new technology is on the scene, with lasers!\n",
      "\n",
      "Laser Headlights?!\n",
      "BWM’s prototype laser headlight assemblies undergoing testing.\n",
      "The first image brought to mind by the phrase “laser headlights” is that of laser beams firing out the front of an automobile. Obviously, coherent beams of monochromatic light would make for poor illumination outside of a very specific spot quite some distance away. Thankfully for our eyes, laser headlights don’t work in this way at all.\n",
      "Instead, laser headlights consist of one or more solid state laser diodes mounted inside the headlight. These blue lasers are fired at a yellow phosphor, similar to that used in white LEDs. This produces a powerful, vibrant white light that can then be bounced off reflectors and out of the headlights towards the road. Laser headlights built in this way have several benefits. They’re more energy efficient than LEDs that put out the same amount of light, while also being more space efficient, too.\n",
      "BWM’s futuristic i8 was one of the first vehicles to ship with laser headlight technology.\n",
      "Laser headlights are still a nascent technology, thus far only appearing in a few BMW, Audi, and other select vehicles. BMW’s technology was developed in partnership with lighting experts OSRAM. In practice, a regular LED low-beam lamp is used, with the laser used to create an incredibly bright and focused spot, used for high-beams. This can provide illumination out to 600 meters ahead of the vehicle, double that of conventional LED high beams. The lights use indium gallium nitride diode lasers that were originally used in projectors, with power levels above 1 watt. One of the challenges in implementing such technology in an automotive environment is the need for it to operate at temperature extremes. While research lasers and laser pointers may primarily be used at typical room temperatures, automotive headlights must be able to withstand everything from 40 degrees below zero up to 50 degrees C. Thankfully, the laser’s high efficiency means it doesn’t have huge heat output of its own to further complicate things. Other engineering challenges involve tailoring the optics package for the rough-and-tumble, high vibration environment found in the automotive application. It’s also important to ensure, as with any such device, that the end user can’t be exposed to harmful laser radiation in the event of accident or malfunction.\n",
      "Tearing Down the Laser Headlight\n",
      "A marketing image showing the construction of an aftermarket LED/laser headlight. We’d take the laser power with a grain of salt — it’s difficult to imagine a 10 W laser shining directly on some small LEDs without melting a hole through the board in short order.\n",
      "An aftermarket has sprung up too, with delightfully innovative designs. Combined laser/LED headlights are readily available on Alibaba, designed as a drop in replacement for projector lamps on existing vehicles. These often use an LED low-beam, and a combined LED/laser high beam, where the laser diode shoots directly at the LED phosphor to excite it further, rather than using its own. These units often also come with fan cooling to keep the laser and LEDs below their maximum operational temperature. Such developments are exciting, though it’s important to be wary of the performance of unknown aftermarket headlights. Many aftermarket LED headlight “upgrades” fail to pass muster when it comes to real-world performance, and there’s no reason to believe hybrid LED/laser designs will be any different. We’d love to pass a selection of these parts through a full IIHS test protocol, but that’s sadly beyond the scope (and budget!) of this article.\n",
      "However, [mikeselectricstuff] has happened to lay his hands on both the BMW and aftermarket parts, tearing them all down in his workshop to see what makes them tick. The differences are multitude when laid bare on the bench. The AliExpress part is relatively simple, wired up no differently from a regular headlight. Interestingly, however, the laser high-beam circuit runs all the time in these parts. To prevent blinding other road users, a shutter is kept in place to block the light, which is moved out of the way with a solenoid when the driver turns on the high beam switch.\n",
      "Where the aftermarket part is a little out of left field, the BMW design is another thing entirely. The cutting-edge headlights are hooked up with multiple connectors and over 30 conductors, with much of the driver electronics living in an external controller. Much of this is to drive the various LEDs and stepper motors for slewing the headlights when steering. However, the laser assembly brings its own complexities. Twin light sensors are built inside to monitor the laser beam, and a special metal blocking arm sits directly in front of the diode, presumably to stop the laser light leaving the headlight in the event the phosphor coating burns through. It’s truly wild to get a look inside a modern luxury car’s headlight and see just how far we’ve come from the old days of simple sealed beams.\n",
      "Cost Versus Performance\n",
      "Despite the efficiency gains available, the technology remains expensive. Powerful laser diodes don’t come cheap, after all. However, as the technology trickles down to lower-end models, it’s likely that we could see economies of scale change that for the better. Indeed, if national authorities begin to demand higher performance headlights as standard, we could see laser headlights become the norm, rather than an expensive luxury. The technology could naturally be applied to home and commercial lighting, too — though we suspect the potential gains are limited enough that LED lighting will remain the norm for some time to come.\n",
      "The high light output of laser headlights in a compact package allows engineers greater freedom when designing the front-end of a car.\n",
      "As it currently stands, much of the appeal of the new technology is about the packaging benefits, which allow automotive designers greater freedom around the headlight area. Such concerns are less of a factor when it comes to light fittings in the home or office, or indeed, on lower-end automobiles. Regardless, it’s an exciting new application for lasers and one we’ll be sure to see more of in the future.\n",
      " \n",
      "\n",
      "\n",
      "\n",
      "\n",
      " \n",
      "\n",
      "\n",
      "\n",
      "\n",
      "\n",
      "\n",
      "\n",
      "\n",
      "\n",
      "\n",
      "\n",
      "\n",
      "\n",
      "\n",
      "\n",
      "\n",
      "\n",
      "\n",
      "\n",
      "Posted in car hacks, Engineering, Featured, Laser Hacks, SliderTagged laser, laser headlight, laser headlights, light \n",
      "\n"
     ]
    }
   ],
   "source": [
    "from bs4 import BeautifulSoup\n",
    "import pickle\n",
    "\n",
    "# Read the HTML content from the file\n",
    "with open(\"python-match.pkl\", \"rb\") as f:\n",
    "    html_content = pickle.load(f)\n",
    "\n",
    "# Parse the HTML content\n",
    "soup = BeautifulSoup(html_content, \"html.parser\")\n",
    "\n",
    "# Find the article element\n",
    "article_element = soup.find(\"article\")\n",
    "\n",
    "# Get the text from the article element\n",
    "article_text = article_element.get_text()\n",
    "\n",
    "# Print the text\n",
    "print(article_text)\n",
    "\n"
   ]
  },
  {
   "cell_type": "code",
   "execution_count": 5,
   "metadata": {},
   "outputs": [
    {
     "name": "stdout",
     "output_type": "stream",
     "text": [
      "File 'article.txt' has been created successfully.\n"
     ]
    }
   ],
   "source": [
    "# Define the text data\n",
    "text_data = \"\"\"\n",
    "How Laser Headlights Work\n",
    "\n",
    "\n",
    "                130 Comments            \n",
    "\n",
    "by:\n",
    "Lewin Day\n",
    "\n",
    "\n",
    "\n",
    "March 22, 2021\n",
    "\n",
    "\n",
    "When we think about the onward march of automotive technology, headlights aren’t usually the first thing that come to mind. Engines, fuel efficiency, and the switch to electric power are all more front of mind. However, that doesn’t mean there aren’t thousands of engineers around the world working to improve the state of the art in automotive lighting day in, day out.\n",
    "Sealed beam headlights gave way to more modern designs once regulations loosened up, while bulbs moved from simple halogens to xenon HIDs and, more recently, LEDs. Now, a new technology is on the scene, with lasers!\n",
    "Laser Headlights?!\n",
    "BWM’s prototype laser headlight assemblies undergoing testing.\n",
    "The first image brought to mind by the phrase “laser headlights” is that of laser beams firing out the front of an automobile. Obviously, coherent beams of monochromatic light would make for poor illumination outside of a very specific spot quite some distance away. Thankfully for our eyes, laser headlights don’t work in this way at all.\n",
    "Instead, laser headlights consist of one or more solid state laser diodes mounted inside the headlight. These blue lasers are fired at a yellow phosphor, similar to that used in white LEDs. This produces a powerful, vibrant white light that can then be bounced off reflectors and out of the headlights towards the road. Laser headlights built in this way have several benefits. They’re more energy efficient than LEDs that put out the same amount of light, while also being more space efficient, too.\n",
    "BWM’s futuristic i8 was one of the first vehicles to ship with laser headlight technology.\n",
    "Laser headlights are still a nascent technology, thus far only appearing in a few BMW, Audi, and other select vehicles. BMW’s technology was developed in partnership with lighting experts OSRAM. In practice, a regular LED low-beam lamp is used, with the laser used to create an incredibly bright and focused spot, used for high-beams. This can provide illumination out to 600 meters ahead of the vehicle, double that of conventional LED high beams. The lights use indium gallium nitride diode lasers that were originally used in projectors, with power levels above 1 watt. One of the challenges in implementing such technology in an automotive environment is the need for it to operate at temperature extremes. While research lasers and laser pointers may primarily be used at typical room temperatures, automotive headlights must be able to withstand everything from 40 degrees below zero up to 50 degrees C. Thankfully, the laser’s high efficiency means it doesn’t have huge heat output of its own to further complicate things. Other engineering challenges involve tailoring the optics package for the rough-and-tumble, high vibration environment found in the automotive application. It’s also important to ensure, as with any such device, that the end user can’t be exposed to harmful laser radiation in the event of accident or malfunction.\n",
    "Tearing Down the Laser Headlight\n",
    "A marketing image showing the construction of an aftermarket LED/laser headlight. We’d take the laser power with a grain of salt — it’s difficult to imagine a 10 W laser shining directly on some small LEDs without melting a hole through the board in short order.\n",
    "An aftermarket has sprung up too, with delightfully innovative designs. Combined laser/LED headlights are readily available on Alibaba, designed as a drop in replacement for projector lamps on existing vehicles. These often use an LED low-beam, and a combined LED/laser high beam, where the laser diode shoots directly at the LED phosphor to excite it further, rather than using its own. These units often also come with fan cooling to keep the laser and LEDs below their maximum operational temperature. Such developments are exciting, though it’s important to be wary of the performance of unknown aftermarket headlights. Many aftermarket LED headlight “upgrades” fail to pass muster when it comes to real-world performance, and there’s no reason to believe hybrid LED/laser designs will be any different. We’d love to pass a selection of these parts through a full IIHS test protocol, but that’s sadly beyond the scope (and budget!) of this article.\n",
    "However, [mikeselectricstuff] has happened to lay his hands on both the BMW and aftermarket parts, tearing them all down in his workshop to see what makes them tick. The differences are multitude when laid bare on the bench. The AliExpress part is relatively simple, wired up no differently from a regular headlight. Interestingly, however, the laser high-beam circuit runs all the time in these parts. To prevent blinding other road users, a shutter is kept in place to block the light, which is moved out of the way with a solenoid when the driver turns on the high beam switch.\n",
    "Where the aftermarket part is a little out of left field, the BMW design is another thing entirely. The cutting-edge headlights are hooked up with multiple connectors and over 30 conductors, with much of the driver electronics living in an external controller. Much of this is to drive the various LEDs and stepper motors for slewing the headlights when steering. However, the laser assembly brings its own complexities. Twin light sensors are built inside to monitor the laser beam, and a special metal blocking arm sits directly in front of the diode, presumably to stop the laser light leaving the headlight in the event the phosphor coating burns through. It’s truly wild to get a look inside a modern luxury car’s headlight and see just how far we’ve come from the old days of simple sealed beams.\n",
    "Cost Versus Performance\n",
    "Despite the efficiency gains available, the technology remains expensive. Powerful laser diodes don’t come cheap, after all. However, as the technology trickles down to lower-end models, it’s likely that we could see economies of scale change that for the better. Indeed, if national authorities begin to demand higher performance headlights as standard, we could see laser headlights become the norm, rather than an expensive luxury. The technology could naturally be applied to home and commercial lighting, too — though we suspect the potential gains are limited enough that LED lighting will remain the norm for some time to come.\n",
    "The high light output of laser headlights in a compact package allows engineers greater freedom when designing the front-end of a car.\n",
    "As it currently stands, much of the appeal of the new technology is about the packaging benefits, which allow automotive designers greater freedom around the headlight area. Such concerns are less of a factor when it comes to light fittings in the home or office, or indeed, on lower-end automobiles. Regardless, it’s an exciting new application for lasers and one we’ll be sure to see more of in the future.\n",
    "Posted in car hacks, Engineering, Featured, Laser Hacks, SliderTagged laser, laser headlight, laser headlights, light \n",
    "\n",
    "\"\"\"\n",
    "\n",
    "# Write the text data to a file\n",
    "with open('article.txt', 'w', encoding='utf-8') as file:\n",
    "    file.write(text_data)\n",
    "\n",
    "print(\"File 'article.txt' has been created successfully.\")\n"
   ]
  },
  {
   "cell_type": "markdown",
   "metadata": {},
   "source": [
    "### Question 3"
   ]
  },
  {
   "cell_type": "markdown",
   "metadata": {},
   "source": [
    "<b>Q3. Load the article text into a trained `spaCy` pipeline, and determine the 5 most frequent tokens (converted to lower case).  Print the common tokens with an appropriate label.  Additionally, print the tokens their frequencies (with appropriate labels). Make sure to remove things we don't care about (punctuation, stopwords, whitespace)."
   ]
  },
  {
   "cell_type": "code",
   "execution_count": 6,
   "metadata": {},
   "outputs": [
    {
     "name": "stdout",
     "output_type": "stream",
     "text": [
      "['laser', 'headlights', 'work', '130', 'comments', 'lewin', 'day', 'march', '22', '2021', 'think', 'onward', 'march', 'automotive', 'technology', 'headlights', 'usually', 'thing', 'come', 'mind', 'engines', 'fuel', 'efficiency', 'switch', 'electric', 'power', 'mind', 'mean', 'thousands', 'engineers', 'world', 'working', 'improve', 'state', 'art', 'automotive', 'lighting', 'day', 'day', 'sealed', 'beam', 'headlights', 'gave', 'way', 'modern', 'designs', 'regulations', 'loosened', 'bulbs', 'moved', 'simple', 'halogens', 'xenon', 'hids', 'recently', 'leds', 'new', 'technology', 'scene', 'lasers', 'laser', 'headlights', 'bwm', 'prototype', 'laser', 'headlight', 'assemblies', 'undergoing', 'testing', 'image', 'brought', 'mind', 'phrase', 'laser', 'headlights', 'laser', 'beams', 'firing', 'automobile', 'obviously', 'coherent', 'beams', 'monochromatic', 'light', 'poor', 'illumination', 'outside', 'specific', 'spot', 'distance', 'away', 'thankfully', 'eyes', 'laser', 'headlights', 'work', 'way', 'instead', 'laser', 'headlights', 'consist', 'solid', 'state', 'laser', 'diodes', 'mounted', 'inside', 'headlight', 'blue', 'lasers', 'fired', 'yellow', 'phosphor', 'similar', 'white', 'leds', 'produces', 'powerful', 'vibrant', 'white', 'light', 'bounced', 'reflectors', 'headlights', 'road', 'laser', 'headlights', 'built', 'way', 'benefits', 'energy', 'efficient', 'leds', 'light', 'space', 'efficient', 'bwm', 'futuristic', 'i8', 'vehicles', 'ship', 'laser', 'headlight', 'technology', 'laser', 'headlights', 'nascent', 'technology', 'far', 'appearing', 'bmw', 'audi', 'select', 'vehicles', 'bmw', 'technology', 'developed', 'partnership', 'lighting', 'experts', 'osram', 'practice', 'regular', 'led', 'low', 'beam', 'lamp', 'laser', 'create', 'incredibly', 'bright', 'focused', 'spot', 'high', 'beams', 'provide', 'illumination', '600', 'meters', 'ahead', 'vehicle', 'double', 'conventional', 'led', 'high', 'beams', 'lights', 'use', 'indium', 'gallium', 'nitride', 'diode', 'lasers', 'originally', 'projectors', 'power', 'levels', '1', 'watt', 'challenges', 'implementing', 'technology', 'automotive', 'environment', 'need', 'operate', 'temperature', 'extremes', 'research', 'lasers', 'laser', 'pointers', 'primarily', 'typical', 'room', 'temperatures', 'automotive', 'headlights', 'able', 'withstand', '40', 'degrees', 'zero', '50', 'degrees', 'c.', 'thankfully', 'laser', 'high', 'efficiency', 'means', 'huge', 'heat', 'output', 'complicate', 'things', 'engineering', 'challenges', 'involve', 'tailoring', 'optics', 'package', 'rough', 'tumble', 'high', 'vibration', 'environment', 'found', 'automotive', 'application', 'important', 'ensure', 'device', 'end', 'user', 'exposed', 'harmful', 'laser', 'radiation', 'event', 'accident', 'malfunction', 'tearing', 'laser', 'headlight', 'marketing', 'image', 'showing', 'construction', 'aftermarket', 'led', 'laser', 'headlight', 'laser', 'power', 'grain', 'salt', 'difficult', 'imagine', '10', 'w', 'laser', 'shining', 'directly', 'small', 'leds', 'melting', 'hole', 'board', 'short', 'order', 'aftermarket', 'sprung', 'delightfully', 'innovative', 'designs', 'combined', 'laser', 'led', 'headlights', 'readily', 'available', 'alibaba', 'designed', 'drop', 'replacement', 'projector', 'lamps', 'existing', 'vehicles', 'use', 'led', 'low', 'beam', 'combined', 'led', 'laser', 'high', 'beam', 'laser', 'diode', 'shoots', 'directly', 'led', 'phosphor', 'excite', 'units', 'come', 'fan', 'cooling', 'laser', 'leds', 'maximum', 'operational', 'temperature', 'developments', 'exciting', 'important', 'wary', 'performance', 'unknown', 'aftermarket', 'headlights', 'aftermarket', 'led', 'headlight', 'upgrades', 'fail', 'pass', 'muster', 'comes', 'real', 'world', 'performance', 'reason', 'believe', 'hybrid', 'led', 'laser', 'designs', 'different', 'love', 'pass', 'selection', 'parts', 'iihs', 'test', 'protocol', 'sadly', 'scope', 'budget', 'article', 'mikeselectricstuff', 'happened', 'lay', 'hands', 'bmw', 'aftermarket', 'parts', 'tearing', 'workshop', 'makes', 'tick', 'differences', 'multitude', 'laid', 'bare', 'bench', 'aliexpress', 'relatively', 'simple', 'wired', 'differently', 'regular', 'headlight', 'interestingly', 'laser', 'high', 'beam', 'circuit', 'runs', 'time', 'parts', 'prevent', 'blinding', 'road', 'users', 'shutter', 'kept', 'place', 'block', 'light', 'moved', 'way', 'solenoid', 'driver', 'turns', 'high', 'beam', 'switch', 'aftermarket', 'little', 'left', 'field', 'bmw', 'design', 'thing', 'entirely', 'cutting', 'edge', 'headlights', 'hooked', 'multiple', 'connectors', '30', 'conductors', 'driver', 'electronics', 'living', 'external', 'controller', 'drive', 'leds', 'stepper', 'motors', 'slewing', 'headlights', 'steering', 'laser', 'assembly', 'brings', 'complexities', 'twin', 'light', 'sensors', 'built', 'inside', 'monitor', 'laser', 'beam', 'special', 'metal', 'blocking', 'arm', 'sits', 'directly', 'diode', 'presumably', 'stop', 'laser', 'light', 'leaving', 'headlight', 'event', 'phosphor', 'coating', 'burns', 'truly', 'wild', 'look', 'inside', 'modern', 'luxury', 'car', 'headlight', 'far', 'come', 'old', 'days', 'simple', 'sealed', 'beams', 'cost', 'versus', 'performance', 'despite', 'efficiency', 'gains', 'available', 'technology', 'remains', 'expensive', 'powerful', 'laser', 'diodes', 'come', 'cheap', 'technology', 'trickles', 'lower', 'end', 'models', 'likely', 'economies', 'scale', 'change', 'better', 'national', 'authorities', 'begin', 'demand', 'higher', 'performance', 'headlights', 'standard', 'laser', 'headlights', 'norm', 'expensive', 'luxury', 'technology', 'naturally', 'applied', 'home', 'commercial', 'lighting', 'suspect', 'potential', 'gains', 'limited', 'led', 'lighting', 'remain', 'norm', 'time', 'come', 'high', 'light', 'output', 'laser', 'headlights', 'compact', 'package', 'allows', 'engineers', 'greater', 'freedom', 'designing', 'end', 'car', 'currently', 'stands', 'appeal', 'new', 'technology', 'packaging', 'benefits', 'allow', 'automotive', 'designers', 'greater', 'freedom', 'headlight', 'area', 'concerns', 'factor', 'comes', 'light', 'fittings', 'home', 'office', 'lower', 'end', 'automobiles', 'regardless', 'exciting', 'new', 'application', 'lasers', 'sure', 'future', 'posted', 'car', 'hacks', 'engineering', 'featured', 'laser', 'hacks', 'slidertagged', 'laser', 'laser', 'headlight', 'laser', 'headlights', 'light']\n"
     ]
    }
   ],
   "source": [
    "\n",
    "import spacy\n",
    "nlp = spacy.load(\"en_core_web_sm\")\n",
    "doc = nlp(article_element.get_text())\n",
    "t = [token.text.lower() for token in doc if token.is_stop != True and token.is_punct != True and token.is_space != True]   \n",
    "print(t)"
   ]
  },
  {
   "cell_type": "code",
   "execution_count": 7,
   "metadata": {},
   "outputs": [
    {
     "name": "stdout",
     "output_type": "stream",
     "text": [
      "[('laser', 35), ('headlights', 19), ('headlight', 11), ('technology', 10), ('led', 10)]\n",
      "{'headlights', 'technology', 'laser', 'headlight', 'led'}\n"
     ]
    }
   ],
   "source": [
    "import spacy\n",
    "from spacytextblob.spacytextblob import SpacyTextBlob\n",
    "\n",
    "nlp = spacy.load('en_core_web_sm')\n",
    "doc = nlp(article_element.get_text())\n",
    "from collections import Counter\n",
    "\n",
    "def important_token(token):\n",
    "    return not (token.is_space or token.is_punct or token.is_stop)\n",
    "\n",
    "interesting_tokens = [token.text.lower() for token in doc if important_token(token)]\n",
    "word_freq = Counter(map(str,interesting_tokens))\n",
    "best_token = (word_freq.most_common(5))\n",
    "print(best_token)\n",
    "best_tokens = set()\n",
    "for token, freq in word_freq.most_common(5):\n",
    "    best_tokens.add(token)\n",
    "print(best_tokens)\n",
    "\n"
   ]
  },
  {
   "cell_type": "code",
   "execution_count": 8,
   "metadata": {},
   "outputs": [
    {
     "name": "stdout",
     "output_type": "stream",
     "text": [
      "[('laser', 35), ('headlights', 19), ('headlight', 11), ('technology', 10), ('led', 10)]\n",
      "{'headlights', 'technology', 'laser', 'headlight', 'led'}\n"
     ]
    }
   ],
   "source": [
    "### using text file:\n",
    "\n",
    "# Read the contents of the article text file\n",
    "with open('article.txt', 'r', encoding='utf-8') as file:\n",
    "    article_text = file.read()\n",
    "   # Process the text using spaCy\n",
    "doc = nlp(article_text)\n",
    "from collections import Counter\n",
    "\n",
    "def important_token(token):\n",
    "    return not (token.is_space or token.is_punct or token.is_stop)\n",
    "\n",
    "interesting_tokens = [token.text.lower() for token in doc if important_token(token)]\n",
    "word_freq = Counter(map(str,interesting_tokens))\n",
    "best_token = (word_freq.most_common(5))\n",
    "print(best_token)\n",
    "best_tokens = set()\n",
    "for token, freq in word_freq.most_common(5):\n",
    "    best_tokens.add(token)\n",
    "print(best_tokens)\n"
   ]
  },
  {
   "cell_type": "markdown",
   "metadata": {},
   "source": [
    "### Question 4"
   ]
  },
  {
   "cell_type": "markdown",
   "metadata": {},
   "source": [
    "<b>Q4. Load the article text into a trained `spaCy` pipeline, and determine the 5 most frequent lemmas (converted to lower case).  Print the common lemmas with an appropriate label.  Additionally, print the lemmas with their frequencies (with appropriate labels). Make sure to remove things we don't care about (punctuation, stopwords, whitespace)."
   ]
  },
  {
   "cell_type": "code",
   "execution_count": 9,
   "metadata": {},
   "outputs": [
    {
     "name": "stdout",
     "output_type": "stream",
     "text": [
      "[('laser', 40), ('headlight', 28), ('beam', 12), ('technology', 10), ('light', 10)]\n",
      "{'technology', 'laser', 'light', 'headlight', 'beam'}\n"
     ]
    }
   ],
   "source": [
    "interesting_lemmas = [token.lemma_.lower() for token in doc if important_token(token)]\n",
    "lemma_freq = Counter(interesting_lemmas)\n",
    "best_lemmas= lemma_freq.most_common(5)\n",
    "print(best_lemmas)\n",
    "best_lemmas = set()\n",
    "for lemma, freq in lemma_freq.most_common(5):\n",
    "    best_lemmas.add(lemma)\n",
    "print(best_lemmas)\n",
    "\n"
   ]
  },
  {
   "cell_type": "code",
   "execution_count": 10,
   "metadata": {},
   "outputs": [
    {
     "name": "stdout",
     "output_type": "stream",
     "text": [
      "5 Most Frequent Lemmas  [('laser', 40), ('headlight', 28), ('beam', 12), ('technology', 10), ('light', 10)]\n",
      "{'technology', 'laser', 'light', 'headlight', 'beam'}\n"
     ]
    }
   ],
   "source": [
    "### using text file:\n",
    "\n",
    "# Read the contents of the article text file\n",
    "with open('article.txt', 'r', encoding='utf-8') as file:\n",
    "    article_text = file.read()\n",
    "\n",
    "# Process the text using spaCy\n",
    "doc = nlp(article_text)\n",
    "interesting_lemmas = [token.lemma_.lower() for token in doc if important_token(token)]\n",
    "lemma_freq = Counter(interesting_lemmas)\n",
    "best_lemmas= lemma_freq.most_common(5)\n",
    "# Get the 5 most common lemmas\n",
    "best_lemmas = lemma_freq.most_common(5)\n",
    "print(\"5 Most Frequent Lemmas \", best_lemmas)\n",
    "\n",
    "best_lemmas = set()\n",
    "for lemma, freq in lemma_freq.most_common(5):\n",
    "    best_lemmas.add(lemma)\n",
    "print(best_lemmas)\n"
   ]
  },
  {
   "cell_type": "markdown",
   "metadata": {},
   "source": [
    "### Question 5"
   ]
  },
  {
   "cell_type": "markdown",
   "metadata": {},
   "source": [
    "<B>Q5. Define the following methods:\n",
    "    * `score_sentence_by_token(sentence, interesting_token)` that takes a sentence and a list of interesting token and returns the number of times that any of the interesting words appear in the sentence divided by the number of words in the sentence\n",
    "    * `score_sentence_by_lemma(sentence, interesting_lemmas)` that takes a sentence and a list of interesting lemmas and returns the number of times that any of the interesting lemmas appear in the sentence divided by the number of words in the sentence\n",
    "    \n",
    "<b>You may find some of the code from the in class notes useful; feel free to use methods (rewrite them in this cell as well).  Test them by showing the score of the first sentence in your article using the frequent tokens and frequent lemmas identified in question 3."
   ]
  },
  {
   "cell_type": "code",
   "execution_count": 11,
   "metadata": {},
   "outputs": [
    {
     "name": "stdout",
     "output_type": "stream",
     "text": [
      "sentence:\n",
      "When we think about the onward march of automotive technology, headlights aren’t usually the first thing that come to mind.\n",
      "Score: 0.09523809523809523\n",
      "The score is 2 tokens in the list divided by the 21 words in the sentence.\n"
     ]
    }
   ],
   "source": [
    "most_tokens = ['laser', 'headlights', 'technology', 'headlight', 'led']  # The words we are testing\n",
    "sentences = list(doc.sents)\n",
    "\n",
    "# Finding the word count of a sentence.\n",
    "def wordCount(sentence):\n",
    "    count = 0\n",
    "    for token in sentence:\n",
    "        if not (token.is_space or token.is_punct):\n",
    "            count += 1\n",
    "    return count\n",
    "print('sentence:')\n",
    "print(sentences[1])  # Printing the sentence we are testing\n",
    "\n",
    "# Here is our function that gives the score.\n",
    "def score_sentence_by_tokens(sentence, interesting_token):\n",
    "    count = 0\n",
    "    for token in sentence:\n",
    "        if token.text.lower() in interesting_token:\n",
    "            count += 1\n",
    "    score = count / wordCount(sentence)\n",
    "    print(\"Score:\", score)\n",
    "    # Add a comment indicating the interpretation of the score\n",
    "    print(\"The score is {} tokens in the list divided by the {} words in the sentence.\".format(count, wordCount(sentence)))\n",
    "\n",
    "tscore1 = score_sentence_by_tokens(sentences[1], most_tokens)  # Here is the test of the function\n"
   ]
  },
  {
   "cell_type": "code",
   "execution_count": 12,
   "metadata": {},
   "outputs": [
    {
     "name": "stdout",
     "output_type": "stream",
     "text": [
      "sentence:\n",
      "When we think about the onward march of automotive technology, headlights aren’t usually the first thing that come to mind.\n",
      "Score: 0.09523809523809523\n",
      "The score is 2 lemmas in the list divided by the 21 words in the sentence.\n"
     ]
    }
   ],
   "source": [
    "best_lemmas = {'laser', 'headlight', 'beam', 'technology', 'light'}  # The lemmas we are testing\n",
    "\n",
    "# Function to calculate the word count of a sentence\n",
    "def wordCount(sentence):\n",
    "    count = sum(1 for token in sentence if not (token.is_space or token.is_punct))\n",
    "    return count\n",
    "\n",
    "# Printing the sentence we are testing\n",
    "print('sentence:')\n",
    "print(sentences[1])\n",
    "\n",
    "# Function to calculate the score based on lemmas\n",
    "def score_sentence_by_lemma(sentence, interesting_lemmas):\n",
    "    count = sum(1 for token in sentence if token.lemma_.lower() in interesting_lemmas)\n",
    "    score = count / wordCount(sentence) if wordCount(sentence) != 0 else 0\n",
    "    print(\"Score:\", score)\n",
    "    # Add a comment indicating the interpretation of the score\n",
    "    print(\"The score is {} lemmas in the list divided by the {} words in the sentence.\".format(count, wordCount(sentence)))\n",
    "    return score\n",
    "\n",
    "# Here is the test of the function\n",
    "score_lemma = score_sentence_by_lemma(sentences[1], best_lemmas)\n"
   ]
  },
  {
   "cell_type": "markdown",
   "metadata": {},
   "source": [
    "### Question 6"
   ]
  },
  {
   "cell_type": "markdown",
   "metadata": {},
   "source": [
    "<B>Q6. Make a list containing the scores (using tokens) of every sentence in the article, and plot a histogram with appropriate titles and axis labels of the scores. From your histogram, what seems to be the most common range of scores (put the answer in a comment after your code)?"
   ]
  },
  {
   "cell_type": "code",
   "execution_count": 13,
   "metadata": {},
   "outputs": [
    {
     "name": "stdout",
     "output_type": "stream",
     "text": [
      "0.16666666666666666 : How Laser Headlights Work        130 Comments      by:Lewin DayMarch 22, 2021\n",
      "0.09523809523809523 : When we think about the onward march of automotive technology, headlights aren’t usually the first thing that come to mind.\n",
      "0.0 : Engines, fuel efficiency, and the switch to electric power are all more front of mind.\n",
      "0.0 : However, that doesn’t mean there aren’t thousands of engineers around the world working to improve the state of the art in automotive lighting day in, day out.\n",
      "0.038461538461538464 : Sealed beam headlights gave way to more modern designs once regulations loosened up, while bulbs moved from simple halogens to xenon HIDs and, more recently, LEDs.\n",
      "0.1 : Now, a new technology is on the scene, with lasers!\n",
      "1.0 : Laser Headlights?!\n",
      "0.25 : BWM’s prototype laser headlight assemblies undergoing testing.\n",
      "0.13043478260869565 : The first image brought to mind by the phrase “laser headlights” is that of laser beams firing out the front of an automobile.\n",
      "0.0 : Obviously, coherent beams of monochromatic light would make for poor illumination outside of a very specific spot quite some distance away.\n",
      "0.14285714285714285 : Thankfully for our eyes, laser headlights don’t work in this way at all.\n",
      "0.25 : Instead, laser headlights consist of one or more solid state laser diodes mounted inside the headlight.\n",
      "0.0 : These blue lasers are fired at a yellow phosphor, similar to that used in white LEDs.\n",
      "0.045454545454545456 : This produces a powerful, vibrant white light that can then be bounced off reflectors and out of the headlights towards the road.\n",
      "0.2222222222222222 : Laser headlights built in this way have several benefits.\n",
      "0.0 : They’re more energy efficient than LEDs that put out the same amount of light, while also being more space efficient, too.\n",
      "0.1875 : BWM’s futuristic i8 was one of the first vehicles to ship with laser headlight technology.\n",
      "0.15 : Laser headlights are still a nascent technology, thus far only appearing in a few BMW, Audi, and other select vehicles.\n",
      "0.09090909090909091 : BMW’s technology was developed in partnership with lighting experts OSRAM.\n",
      "0.07692307692307693 : In practice, a regular LED low-beam lamp is used, with the laser used to create an incredibly bright and focused spot, used for high-beams.\n",
      "0.05263157894736842 : This can provide illumination out to 600 meters ahead of the vehicle, double that of conventional LED high beams.\n",
      "0.0 : The lights use indium gallium nitride diode lasers that were originally used in projectors, with power levels above 1 watt.\n",
      "0.045454545454545456 : One of the challenges in implementing such technology in an automotive environment is the need for it to operate at temperature extremes.\n",
      "0.05660377358490566 : While research lasers and laser pointers may primarily be used at typical room temperatures, automotive headlights must be able to withstand everything from 40 degrees below zero up to 50 degrees C. Thankfully, the laser’s high efficiency means it doesn’t have huge heat output of its own to further complicate things.\n",
      "0.0 : Other engineering challenges involve tailoring the optics package for the rough-and-tumble, high vibration environment found in the automotive application.\n",
      "0.03333333333333333 : It’s also important to ensure, as with any such device, that the end user can’t be exposed to harmful laser radiation in the event of accident or malfunction.\n",
      "0.29411764705882354 : Tearing Down the Laser HeadlightA marketing image showing the construction of an aftermarket LED/laser headlight.\n",
      "0.05555555555555555 : We’d take the laser power with a grain of salt — it’s difficult to imagine a 10 W laser shining directly on some small LEDs without melting a hole through the board in short order.\n",
      "0.0 : An aftermarket has sprung up too, with delightfully innovative designs.\n",
      "0.14285714285714285 : Combined laser/LED headlights are readily available on Alibaba, designed as a drop in replacement for projector lamps on existing vehicles.\n",
      "0.15151515151515152 : These often use an LED low-beam, and a combined LED/laser high beam, where the laser diode shoots directly at the LED phosphor to excite it further, rather than using its own.\n",
      "0.05263157894736842 : These units often also come with fan cooling to keep the laser and LEDs below their maximum operational temperature.\n",
      "0.05555555555555555 : Such developments are exciting, though it’s important to be wary of the performance of unknown aftermarket headlights.\n",
      "0.12903225806451613 : Many aftermarket LED headlight “upgrades” fail to pass muster when it comes to real-world performance, and there’s no reason to believe hybrid LED/laser designs will be any different.\n",
      "0.0 : We’d love to pass a selection of these parts through a full IIHS test protocol, but that’s sadly beyond the scope (and budget!)\n",
      "0.0 : of this article.\n",
      "0.0 : However, [mikeselectricstuff] has happened to lay his hands on both the BMW and aftermarket parts, tearing them all down in his workshop to see what makes them tick.\n",
      "0.0 : The differences are multitude when laid bare on the bench.\n",
      "0.07142857142857142 : The AliExpress part is relatively simple, wired up no differently from a regular headlight.\n",
      "0.07142857142857142 : Interestingly, however, the laser high-beam circuit runs all the time in these parts.\n",
      "0.0 : To prevent blinding other road users, a shutter is kept in place to block the light, which is moved out of the way with a solenoid when the driver turns on the high beam switch.\n",
      "0.0 : Where the aftermarket part is a little out of left field, the BMW design is another thing entirely.\n",
      "0.04 : The cutting-edge headlights are hooked up with multiple connectors and over 30 conductors, with much of the driver electronics living in an external controller.\n",
      "0.05555555555555555 : Much of this is to drive the various LEDs and stepper motors for slewing the headlights when steering.\n",
      "0.125 : However, the laser assembly brings its own complexities.\n",
      "0.07317073170731707 : Twin light sensors are built inside to monitor the laser beam, and a special metal blocking arm sits directly in front of the diode, presumably to stop the laser light leaving the headlight in the event the phosphor coating burns through.\n",
      "0.03225806451612903 : It’s truly wild to get a look inside a modern luxury car’s headlight and see just how far we’ve come from the old days of simple sealed beams.\n",
      "0.08333333333333333 : Cost Versus PerformanceDespite the efficiency gains available, the technology remains expensive.\n",
      "0.1111111111111111 : Powerful laser diodes don’t come cheap, after all.\n",
      "0.04 : However, as the technology trickles down to lower-end models, it’s likely that we could see economies of scale change that for the better.\n",
      "0.12 : Indeed, if national authorities begin to demand higher performance headlights as standard, we could see laser headlights become the norm, rather than an expensive luxury.\n",
      "0.06060606060606061 : The technology could naturally be applied to home and commercial lighting, too — though we suspect the potential gains are limited enough that LED lighting will remain the norm for some time to come.\n",
      "0.08695652173913043 : The high light output of laser headlights in a compact package allows engineers greater freedom when designing the front-end of a car.\n",
      "0.07407407407407407 : As it currently stands, much of the appeal of the new technology is about the packaging benefits, which allow automotive designers greater freedom around the headlight area.\n",
      "0.0 : Such concerns are less of a factor when it comes to light fittings in the home or office, or indeed, on lower-end automobiles.\n",
      "0.0 : Regardless, it’s an exciting new application for lasers and one we’ll be sure to see more of in the future.\n",
      "0.4 : Posted in car hacks, Engineering, Featured, Laser Hacks, SliderTagged laser, laser headlight, laser headlights, light \n"
     ]
    }
   ],
   "source": [
    "\n",
    "\n",
    "sentences = list(doc.sents) # Finds score for each sentence\n",
    "for sentence in sentences:\n",
    "    count1= 0\n",
    "    for token in sentence:\n",
    "        if token.text.lower() in best_tokens:\n",
    "            count1+= 1\n",
    "    count2 = 0\n",
    "    for token in sentence:\n",
    "        if not(token.is_space or token.is_punct):\n",
    "            count2 += 1\n",
    "    sent_str = str(sentence).replace('\\n','').replace('  ',' ')\n",
    "    print(count1/count2,':',sent_str)\n"
   ]
  },
  {
   "cell_type": "code",
   "execution_count": 14,
   "metadata": {},
   "outputs": [
    {
     "name": "stdout",
     "output_type": "stream",
     "text": [
      "TokensLIST = [0.16666666666666666, 0.09523809523809523, 0.0, 0.0, 0.038461538461538464, 0.1, 1.0, 0.25, 0.13043478260869565, 0.0, 0.14285714285714285, 0.25, 0.0, 0.045454545454545456, 0.2222222222222222, 0.0, 0.1875, 0.15, 0.09090909090909091, 0.07692307692307693, 0.05263157894736842, 0.0, 0.045454545454545456, 0.05660377358490566, 0.0, 0.03333333333333333, 0.29411764705882354, 0.05555555555555555, 0.0, 0.14285714285714285, 0.15151515151515152, 0.05263157894736842, 0.05555555555555555, 0.12903225806451613, 0.0, 0.0, 0.0, 0.0, 0.07142857142857142, 0.07142857142857142, 0.0, 0.0, 0.04, 0.05555555555555555, 0.125, 0.07317073170731707, 0.03225806451612903, 0.08333333333333333, 0.1111111111111111, 0.04, 0.12, 0.06060606060606061, 0.08695652173913043, 0.07407407407407407, 0.0, 0.0, 0.4]\n"
     ]
    }
   ],
   "source": [
    "tscores = []\n",
    "for sentence in sentences:\n",
    "    count1= 0\n",
    "    for token in sentence:\n",
    "        if token.text.lower() in best_tokens:\n",
    "            count1 += 1\n",
    "    count2 = 0\n",
    "    for token in sentence:\n",
    "        if not(token.is_space or token.is_punct):\n",
    "            count2 += 1\n",
    "    score = count1 / count2 if count2 > 0 else 0\n",
    "    tscores.append(score)\n",
    "\n",
    "print(\"TokensLIST =\", tscores)\n",
    "\n",
    "\n"
   ]
  },
  {
   "cell_type": "code",
   "execution_count": 15,
   "metadata": {},
   "outputs": [
    {
     "data": {
      "image/png": "[encoded data removed]",
      "text/plain": [
       "<Figure size 640x480 with 1 Axes>"
      ]
     },
     "metadata": {},
     "output_type": "display_data"
    }
   ],
   "source": [
    "import numpy as np\n",
    "import pandas as pd\n",
    "import matplotlib.pyplot as plt\n",
    "# Plot histogram\n",
    "plt.hist(tscores)\n",
    "plt.title('Frequency of Sentence Scores Using Tokens')\n",
    "plt.xlabel('Score')\n",
    "plt.ylabel('Frequency')\n",
    "plt.show()\n",
    "\n"
   ]
  },
  {
   "cell_type": "markdown",
   "metadata": {},
   "source": [
    "### Question 7"
   ]
  },
  {
   "cell_type": "markdown",
   "metadata": {},
   "source": [
    "<b> Q7. Make a list containing the scores (using lemmas) of every sentence in the article, and plot a histogram with appropriate titles and axis labels of the scores.  From your histogram, what seems to be the most common range of scores (put the answer in a comment after your code)?"
   ]
  },
  {
   "cell_type": "code",
   "execution_count": 16,
   "metadata": {},
   "outputs": [
    {
     "name": "stdout",
     "output_type": "stream",
     "text": [
      "0.08333333333333333 : How Laser Headlights Work        130 Comments      by:Lewin DayMarch 22, 2021\n",
      "0.09523809523809523 : When we think about the onward march of automotive technology, headlights aren’t usually the first thing that come to mind.\n",
      "0.0 : Engines, fuel efficiency, and the switch to electric power are all more front of mind.\n",
      "0.0 : However, that doesn’t mean there aren’t thousands of engineers around the world working to improve the state of the art in automotive lighting day in, day out.\n",
      "0.07692307692307693 : Sealed beam headlights gave way to more modern designs once regulations loosened up, while bulbs moved from simple halogens to xenon HIDs and, more recently, LEDs.\n",
      "0.2 : Now, a new technology is on the scene, with lasers!\n",
      "0.5 : Laser Headlights?!\n",
      "0.25 : BWM’s prototype laser headlight assemblies undergoing testing.\n",
      "0.17391304347826086 : The first image brought to mind by the phrase “laser headlights” is that of laser beams firing out the front of an automobile.\n",
      "0.09523809523809523 : Obviously, coherent beams of monochromatic light would make for poor illumination outside of a very specific spot quite some distance away.\n",
      "0.14285714285714285 : Thankfully for our eyes, laser headlights don’t work in this way at all.\n",
      "0.25 : Instead, laser headlights consist of one or more solid state laser diodes mounted inside the headlight.\n",
      "0.0625 : These blue lasers are fired at a yellow phosphor, similar to that used in white LEDs.\n",
      "0.09090909090909091 : This produces a powerful, vibrant white light that can then be bounced off reflectors and out of the headlights towards the road.\n",
      "0.2222222222222222 : Laser headlights built in this way have several benefits.\n",
      "0.045454545454545456 : They’re more energy efficient than LEDs that put out the same amount of light, while also being more space efficient, too.\n",
      "0.1875 : BWM’s futuristic i8 was one of the first vehicles to ship with laser headlight technology.\n",
      "0.15 : Laser headlights are still a nascent technology, thus far only appearing in a few BMW, Audi, and other select vehicles.\n",
      "0.09090909090909091 : BMW’s technology was developed in partnership with lighting experts OSRAM.\n",
      "0.11538461538461539 : In practice, a regular LED low-beam lamp is used, with the laser used to create an incredibly bright and focused spot, used for high-beams.\n",
      "0.05263157894736842 : This can provide illumination out to 600 meters ahead of the vehicle, double that of conventional LED high beams.\n",
      "0.1 : The lights use indium gallium nitride diode lasers that were originally used in projectors, with power levels above 1 watt.\n",
      "0.045454545454545456 : One of the challenges in implementing such technology in an automotive environment is the need for it to operate at temperature extremes.\n",
      "0.07547169811320754 : While research lasers and laser pointers may primarily be used at typical room temperatures, automotive headlights must be able to withstand everything from 40 degrees below zero up to 50 degrees C. Thankfully, the laser’s high efficiency means it doesn’t have huge heat output of its own to further complicate things.\n",
      "0.0 : Other engineering challenges involve tailoring the optics package for the rough-and-tumble, high vibration environment found in the automotive application.\n",
      "0.03333333333333333 : It’s also important to ensure, as with any such device, that the end user can’t be exposed to harmful laser radiation in the event of accident or malfunction.\n",
      "0.23529411764705882 : Tearing Down the Laser HeadlightA marketing image showing the construction of an aftermarket LED/laser headlight.\n",
      "0.05555555555555555 : We’d take the laser power with a grain of salt — it’s difficult to imagine a 10 W laser shining directly on some small LEDs without melting a hole through the board in short order.\n",
      "0.0 : An aftermarket has sprung up too, with delightfully innovative designs.\n",
      "0.09523809523809523 : Combined laser/LED headlights are readily available on Alibaba, designed as a drop in replacement for projector lamps on existing vehicles.\n",
      "0.12121212121212122 : These often use an LED low-beam, and a combined LED/laser high beam, where the laser diode shoots directly at the LED phosphor to excite it further, rather than using its own.\n",
      "0.05263157894736842 : These units often also come with fan cooling to keep the laser and LEDs below their maximum operational temperature.\n",
      "0.05555555555555555 : Such developments are exciting, though it’s important to be wary of the performance of unknown aftermarket headlights.\n",
      "0.06451612903225806 : Many aftermarket LED headlight “upgrades” fail to pass muster when it comes to real-world performance, and there’s no reason to believe hybrid LED/laser designs will be any different.\n",
      "0.0 : We’d love to pass a selection of these parts through a full IIHS test protocol, but that’s sadly beyond the scope (and budget!)\n",
      "0.0 : of this article.\n",
      "0.0 : However, [mikeselectricstuff] has happened to lay his hands on both the BMW and aftermarket parts, tearing them all down in his workshop to see what makes them tick.\n",
      "0.0 : The differences are multitude when laid bare on the bench.\n",
      "0.07142857142857142 : The AliExpress part is relatively simple, wired up no differently from a regular headlight.\n",
      "0.14285714285714285 : Interestingly, however, the laser high-beam circuit runs all the time in these parts.\n",
      "0.05714285714285714 : To prevent blinding other road users, a shutter is kept in place to block the light, which is moved out of the way with a solenoid when the driver turns on the high beam switch.\n",
      "0.0 : Where the aftermarket part is a little out of left field, the BMW design is another thing entirely.\n",
      "0.04 : The cutting-edge headlights are hooked up with multiple connectors and over 30 conductors, with much of the driver electronics living in an external controller.\n",
      "0.05555555555555555 : Much of this is to drive the various LEDs and stepper motors for slewing the headlights when steering.\n",
      "0.125 : However, the laser assembly brings its own complexities.\n",
      "0.14634146341463414 : Twin light sensors are built inside to monitor the laser beam, and a special metal blocking arm sits directly in front of the diode, presumably to stop the laser light leaving the headlight in the event the phosphor coating burns through.\n",
      "0.06451612903225806 : It’s truly wild to get a look inside a modern luxury car’s headlight and see just how far we’ve come from the old days of simple sealed beams.\n",
      "0.08333333333333333 : Cost Versus PerformanceDespite the efficiency gains available, the technology remains expensive.\n",
      "0.1111111111111111 : Powerful laser diodes don’t come cheap, after all.\n",
      "0.04 : However, as the technology trickles down to lower-end models, it’s likely that we could see economies of scale change that for the better.\n",
      "0.12 : Indeed, if national authorities begin to demand higher performance headlights as standard, we could see laser headlights become the norm, rather than an expensive luxury.\n",
      "0.030303030303030304 : The technology could naturally be applied to home and commercial lighting, too — though we suspect the potential gains are limited enough that LED lighting will remain the norm for some time to come.\n",
      "0.13043478260869565 : The high light output of laser headlights in a compact package allows engineers greater freedom when designing the front-end of a car.\n",
      "0.07407407407407407 : As it currently stands, much of the appeal of the new technology is about the packaging benefits, which allow automotive designers greater freedom around the headlight area.\n",
      "0.041666666666666664 : Such concerns are less of a factor when it comes to light fittings in the home or office, or indeed, on lower-end automobiles.\n",
      "0.045454545454545456 : Regardless, it’s an exciting new application for lasers and one we’ll be sure to see more of in the future.\n",
      "0.4666666666666667 : Posted in car hacks, Engineering, Featured, Laser Hacks, SliderTagged laser, laser headlight, laser headlights, light \n"
     ]
    }
   ],
   "source": [
    "sentences = list(doc.sents) # Find Score Each Sentence\n",
    "for sentence in sentences:\n",
    "    count1= 0\n",
    "    for lemma in sentence:\n",
    "        if lemma.lemma_.lower() in best_lemmas:\n",
    "            count1+= 1\n",
    "    count2 = 0\n",
    "    for lemma in sentence:\n",
    "        if not(lemma.is_space or lemma.is_punct):\n",
    "            count2 += 1\n",
    "    sent_str = str(sentence).replace('\\n','').replace('  ',' ')\n",
    "    print(count1/count2,':',sent_str)\n"
   ]
  },
  {
   "cell_type": "code",
   "execution_count": 17,
   "metadata": {},
   "outputs": [
    {
     "name": "stdout",
     "output_type": "stream",
     "text": [
      "LemmasLIST = [0.08333333333333333, 0.09523809523809523, 0.0, 0.0, 0.07692307692307693, 0.2, 0.5, 0.25, 0.17391304347826086, 0.09523809523809523, 0.14285714285714285, 0.25, 0.0625, 0.09090909090909091, 0.2222222222222222, 0.045454545454545456, 0.1875, 0.15, 0.09090909090909091, 0.11538461538461539, 0.05263157894736842, 0.1, 0.045454545454545456, 0.07547169811320754, 0.0, 0.03333333333333333, 0.23529411764705882, 0.05555555555555555, 0.0, 0.09523809523809523, 0.12121212121212122, 0.05263157894736842, 0.05555555555555555, 0.06451612903225806, 0.0, 0.0, 0.0, 0.0, 0.07142857142857142, 0.14285714285714285, 0.05714285714285714, 0.0, 0.04, 0.05555555555555555, 0.125, 0.14634146341463414, 0.06451612903225806, 0.08333333333333333, 0.1111111111111111, 0.04, 0.12, 0.030303030303030304, 0.13043478260869565, 0.07407407407407407, 0.041666666666666664, 0.045454545454545456, 0.4666666666666667]\n"
     ]
    }
   ],
   "source": [
    "# Initialize list to store lemma scores\n",
    "lscores1 = []\n",
    "\n",
    "# Loop through each sentence to calculate lemma scores\n",
    "for sentence in sentences:\n",
    "    count1 = 0\n",
    "    for token in sentence:\n",
    "        if token.lemma_.lower() in best_lemmas:\n",
    "            count1 += 1\n",
    "    \n",
    "    count2 = 0\n",
    "    for token in sentence:\n",
    "        if not (token.is_space or token.is_punct):\n",
    "            count2 += 1\n",
    "    \n",
    "    # Calculate lemma score for the sentence\n",
    "    score = count1 / count2 if count2 > 0 else 0\n",
    "    lscores1.append(score)\n",
    "\n",
    "# Print the list of lemma scores\n",
    "print(\"LemmasLIST =\", lscores1)\n"
   ]
  },
  {
   "cell_type": "code",
   "execution_count": 18,
   "metadata": {},
   "outputs": [
    {
     "data": {
      "image/png": "[encoded data removed]",
      "text/plain": [
       "<Figure size 640x480 with 1 Axes>"
      ]
     },
     "metadata": {},
     "output_type": "display_data"
    }
   ],
   "source": [
    "# Plot histogram\n",
    "plt.hist(lscores1)\n",
    "plt.title('Frequency of Sentence Scores Using Lemmas')\n",
    "plt.xlabel('Score')\n",
    "plt.ylabel('Frequency')\n",
    "plt.show()"
   ]
  },
  {
   "cell_type": "markdown",
   "metadata": {},
   "source": [
    "### Question 8"
   ]
  },
  {
   "cell_type": "markdown",
   "metadata": {},
   "source": [
    "<b>Q8. Which tokens and lexems would be ommitted from the lists generated in questions 3 and 4 if we only wanted to consider nouns as interesting words?  How might we change the code to only consider nouns? Put your answer in this Markdown cell (you can edit it by double clicking it).<br></b>\n",
    "\n",
    " The Token \"led\" would be removed as it is a verb, not a noun. All of the other Tokens and Lexems would not be ommitted, because they are all nouns. To change the code to only consider nouns, we could use part of speech tagging to ensure that the analysis only includes tokens and lexems that are nouns. This would be done by checking if the 'token.pos_' attribute (for tokens) and the 'token.pos' attribute (for lexems) are equal to the 'NOUN' attribute."
   ]
  },
  {
   "cell_type": "markdown",
   "metadata": {},
   "source": [
    "<b>For tokens (in question 3)<br>\n",
    "`interesting_tokens = [token.text.lower() for token in doc if important_token(token) and token.pos_ == 'NOUN']`\n",
    "\n",
    "<b> For lemmas (in question 4)<br>\n",
    "`interesting_lemmas = [token.lemma_.lower() for token in doc if important_token(token) and token.pos_ == 'NOUN']`\n"
   ]
  },
  {
   "cell_type": "code",
   "execution_count": null,
   "metadata": {},
   "outputs": [],
   "source": []
  }
 ],
 "metadata": {
  "kernelspec": {
   "display_name": "Python 3 (ipykernel)",
   "language": "python",
   "name": "python3"
  },
  "language_info": {
   "codemirror_mode": {
    "name": "ipython",
    "version": 3
   },
   "file_extension": ".py",
   "mimetype": "text/x-python",
   "name": "python",
   "nbconvert_exporter": "python",
   "pygments_lexer": "ipython3",
   "version": "3.9.12"
  }
 },
 "nbformat": 4,
 "nbformat_minor": 4
}
